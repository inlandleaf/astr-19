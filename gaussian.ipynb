{
 "cells": [
  {
   "cell_type": "code",
   "execution_count": null,
   "id": "70b31f89-d1f8-4afa-91e7-ac43be154903",
   "metadata": {},
   "outputs": [],
   "source": [
    "import matplotlib.pyplot as plt\n",
    "import numpy as np"
   ]
  },
  {
   "cell_type": "code",
   "execution_count": null,
   "id": "723910d4-940a-4f5a-b3d5-543467afcf80",
   "metadata": {},
   "outputs": [],
   "source": [
    "# generate 1000 random numbers in a normal distribution via numpy\n",
    "# for standard normal distribution, use mean=0 and std=1\n",
    "random_numbers = np.random.normal(0, 1, 1000)"
   ]
  },
  {
   "cell_type": "code",
   "execution_count": null,
   "id": "b98ecc2e-5122-42ff-ba75-aa19867f538b",
   "metadata": {},
   "outputs": [],
   "source": [
    "# plot histogram\n",
    "plt.figure(figsize=(10, 5))\n",
    "plt.hist(random_numbers, bins=100, alpha=0.7, color='green')\n",
    "plt.title('Normal Distribution Histogram')\n",
    "plt.xlabel('Value')\n",
    "plt.ylabel('Frequency')\n",
    "plt.grid(True)\n",
    "\n",
    "plt.savefig('normal_distribution_histogram.pdf') # save plot as a PDF\n",
    "\n",
    "plt.show() # display plot"
   ]
  }
 ],
 "metadata": {
  "kernelspec": {
   "display_name": "Python 3 (ipykernel)",
   "language": "python",
   "name": "python3"
  },
  "language_info": {
   "codemirror_mode": {
    "name": "ipython",
    "version": 3
   },
   "file_extension": ".py",
   "mimetype": "text/x-python",
   "name": "python",
   "nbconvert_exporter": "python",
   "pygments_lexer": "ipython3",
   "version": "3.11.3"
  }
 },
 "nbformat": 4,
 "nbformat_minor": 5
}
