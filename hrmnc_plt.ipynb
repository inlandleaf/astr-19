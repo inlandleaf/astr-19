{
 "cells": [
  {
   "cell_type": "code",
   "execution_count": null,
   "id": "3b5f876f-f4d9-4e5f-af43-d1daeae46d67",
   "metadata": {},
   "outputs": [],
   "source": [
    "import matplotlib.pyplot as plt\n",
    "import numpy as np"
   ]
  },
  {
   "cell_type": "code",
   "execution_count": null,
   "id": "125d5169-184b-47e8-ac72-744a03e42fad",
   "metadata": {},
   "outputs": [],
   "source": [
    "x = np.linspace(0, 1, 100) # use linspace() to create array x with values from 0 to 1 in 100 steps\n",
    "\n",
    "# define sine function\n",
    "def sin_function(x):\n",
    "    return np.sin(x)\n",
    "\n",
    "# define cosine function\n",
    "def cos_function(x):\n",
    "    return np.cos(x)"
   ]
  },
  {
   "cell_type": "code",
   "execution_count": null,
   "id": "23bdf3ca-6228-4951-9dc8-33d7a985430a",
   "metadata": {},
   "outputs": [],
   "source": [
    "# set sine and cosine y values via helper funcs\n",
    "y_sin = sin_function(x)\n",
    "y_cos = cos_function(x)\n",
    "\n",
    "fig, axes = plt.subplots(1, 2, figsize=(12, 5)) # create multipanel plot with 1 row and 2 columns\n",
    "\n",
    "# plot sine in the left panel\n",
    "axes[0].plot(x, y_sin, label='sin(x)', color='blue')\n",
    "axes[0].set_title('sin(x)')\n",
    "axes[0].set_xlabel('x')\n",
    "axes[0].set_ylabel('sin(x)')\n",
    "axes[0].grid(True)\n",
    "axes[0].legend()\n",
    "\n",
    "# plot cosine in the right panel\n",
    "axes[1].plot(x, y_cos, label='cos(x)', color='red')\n",
    "axes[1].set_title('cos(x)')\n",
    "axes[1].set_xlabel('x')\n",
    "axes[1].set_ylabel('cos(x)')\n",
    "axes[1].grid(True)\n",
    "axes[1].legend()\n",
    "\n",
    "plt.tight_layout() # adjust layout ensure no overlap\n",
    "\n",
    "plt.show() # display plot"
   ]
  },
  {
   "cell_type": "code",
   "execution_count": null,
   "id": "ce3489a8-c7fe-409e-ab7c-cf8564afb77e",
   "metadata": {},
   "outputs": [],
   "source": [
    "fig.savefig('harmonic_plot.pdf') # save the plot as a PDF"
   ]
  }
 ],
 "metadata": {
  "kernelspec": {
   "display_name": "Python 3 (ipykernel)",
   "language": "python",
   "name": "python3"
  },
  "language_info": {
   "codemirror_mode": {
    "name": "ipython",
    "version": 3
   },
   "file_extension": ".py",
   "mimetype": "text/x-python",
   "name": "python",
   "nbconvert_exporter": "python",
   "pygments_lexer": "ipython3",
   "version": "3.11.3"
  }
 },
 "nbformat": 4,
 "nbformat_minor": 5
}
