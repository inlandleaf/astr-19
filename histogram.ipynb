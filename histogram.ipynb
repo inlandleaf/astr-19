{
 "cells": [
  {
   "cell_type": "code",
   "execution_count": null,
   "id": "edc657af-acd1-4e9f-a97a-a632f9016ba1",
   "metadata": {},
   "outputs": [],
   "source": [
    "import matplotlib.pyplot as plt\n",
    "import numpy as np"
   ]
  },
  {
   "cell_type": "code",
   "execution_count": null,
   "id": "8889d56d-f09a-4682-87dc-0e4169daae7a",
   "metadata": {},
   "outputs": [],
   "source": [
    "# 1000 random numbers uniformly distributed between 0 and 1\n",
    "random_numbers = np.random.uniform(0, 1, 1000)"
   ]
  },
  {
   "cell_type": "code",
   "execution_count": null,
   "id": "752b39ab-1a3a-40b2-9c28-d8a13e798e51",
   "metadata": {},
   "outputs": [],
   "source": [
    "# plot histogram\n",
    "plt.figure(figsize=(10, 5))  # set figure size\n",
    "plt.hist(random_numbers, bins=100, alpha=0.7, color='blue')  # initialize histogram with 100 bins\n",
    "plt.title('Uniform Distribution Histogram')  # title histogram\n",
    "plt.xlabel('Value')  # label x-axis\n",
    "plt.ylabel('Frequency')  # label y-axis\n",
    "plt.grid(True)  # add grid for better readability\n",
    "plt.show() # display plot"
   ]
  },
  {
   "cell_type": "code",
   "execution_count": null,
   "id": "672cd2c5-4900-4d62-8a8a-dace4161e548",
   "metadata": {},
   "outputs": [],
   "source": [
    "plt.figure(figsize=(10, 5))\n",
    "plt.hist(random_numbers, bins=100, alpha=0.7, color='blue')\n",
    "plt.title('Uniform Distribution Histogram')\n",
    "plt.xlabel('Value')\n",
    "plt.ylabel('Frequency')\n",
    "plt.grid(True)\n",
    "\n",
    "plt.savefig('histogram.pdf')  # save plot as a PDF"
   ]
  }
 ],
 "metadata": {
  "kernelspec": {
   "display_name": "Python 3 (ipykernel)",
   "language": "python",
   "name": "python3"
  },
  "language_info": {
   "codemirror_mode": {
    "name": "ipython",
    "version": 3
   },
   "file_extension": ".py",
   "mimetype": "text/x-python",
   "name": "python",
   "nbconvert_exporter": "python",
   "pygments_lexer": "ipython3",
   "version": "3.11.3"
  }
 },
 "nbformat": 4,
 "nbformat_minor": 5
}
