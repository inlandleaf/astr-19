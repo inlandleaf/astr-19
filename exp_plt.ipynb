{
 "cells": [
  {
   "cell_type": "code",
   "execution_count": null,
   "id": "f1b4dbde-10e9-4cde-a41a-992f74917371",
   "metadata": {},
   "outputs": [],
   "source": [
    "import matplotlib.pyplot as plt\n",
    "import numpy as np"
   ]
  },
  {
   "cell_type": "code",
   "execution_count": null,
   "id": "e2ddb339-e171-439f-b90a-5ab6922ecac1",
   "metadata": {},
   "outputs": [],
   "source": [
    "# use linspace() to create array x with values from 0 to 1 in 100 steps\n",
    "x = np.linspace(0, 1, 100)\n",
    "\n",
    "# define exponent function\n",
    "def exp_function(x):\n",
    "    return np.exp(x)"
   ]
  },
  {
   "cell_type": "code",
   "execution_count": null,
   "id": "f774bf2d-4b89-446f-9340-7ca430434e68",
   "metadata": {},
   "outputs": [],
   "source": [
    "# set y = exp(x)\n",
    "y = exp_function(x)\n",
    "\n",
    "# plot graph\n",
    "plt.figure(figsize=(10, 5))\n",
    "plt.plot(x, y, label='exp(x)')  # plot x vs exp(x)\n",
    "plt.xlabel('Time [milliseconds]')  # label x-axis\n",
    "plt.ylabel('Awesomeness')  # label y-axis\n",
    "plt.title('Plot of exp(x)')  # title plot\n",
    "plt.legend()  # add legend\n",
    "plt.grid(True)  # add grid for better readability\n",
    "plt.show()"
   ]
  },
  {
   "cell_type": "code",
   "execution_count": null,
   "id": "b4ebcad6-cdf5-4375-b2c1-5d11bf4fcd42",
   "metadata": {},
   "outputs": [],
   "source": [
    "plt.figure(figsize=(10, 5))\n",
    "plt.plot(x, y, label='exp(x)')\n",
    "plt.xlabel('Time [milliseconds]')\n",
    "plt.ylabel('Awesomeness')\n",
    "plt.title('Plot of exp(x)')\n",
    "plt.legend()\n",
    "plt.grid(True)\n",
    "plt.savefig('exp_function_plot.pdf')  # save figure as a PDF file"
   ]
  }
 ],
 "metadata": {
  "kernelspec": {
   "display_name": "Python 3 (ipykernel)",
   "language": "python",
   "name": "python3"
  },
  "language_info": {
   "codemirror_mode": {
    "name": "ipython",
    "version": 3
   },
   "file_extension": ".py",
   "mimetype": "text/x-python",
   "name": "python",
   "nbconvert_exporter": "python",
   "pygments_lexer": "ipython3",
   "version": "3.11.3"
  }
 },
 "nbformat": 4,
 "nbformat_minor": 5
}
