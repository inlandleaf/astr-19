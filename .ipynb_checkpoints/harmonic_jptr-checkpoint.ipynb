{
 "cells": [
  {
   "cell_type": "code",
   "execution_count": null,
   "id": "0503584a-b16c-4db4-aa45-72fbbe85e2ce",
   "metadata": {},
   "outputs": [],
   "source": [
    "# create cell to import necessary libraries\n",
    "import math\n",
    "import numpy as np"
   ]
  },
  {
   "cell_type": "code",
   "execution_count": null,
   "id": "0e1035cf-b5f0-42f8-8038-ad078989a0ea",
   "metadata": {},
   "outputs": [],
   "source": [
    "# define sin helper function\n",
    "def sin_func(x): \n",
    "    return math.sin(x)"
   ]
  },
  {
   "cell_type": "code",
   "execution_count": null,
   "id": "21d140cd-d120-4955-beb1-2923a9aca6b2",
   "metadata": {},
   "outputs": [],
   "source": [
    "# define cosine helper function\n",
    "def cos_func(x):\n",
    "    return math.cos(x)"
   ]
  },
  {
   "cell_type": "code",
   "execution_count": null,
   "id": "dd442497-334e-4a09-b4b5-11c2d9f35d36",
   "metadata": {},
   "outputs": [],
   "source": [
    "# use linspace to create array of 1000 x values from 0 to 2pi\n",
    "x_vals = np.linspace(0, 2*np.pi, 1000)\n",
    "\n",
    "# calculate sin and cos values from the x value array\n",
    "sin_vals = [sin_func(x) for x in x_vals]\n",
    "cos_vals = [cos_func(x) for x in x_vals]"
   ]
  },
  {
   "cell_type": "code",
   "execution_count": null,
   "id": "59fd69ca-079e-4c9f-9471-9ed099c82f82",
   "metadata": {},
   "outputs": [],
   "source": [
    "# print the first 10 values in columns\n",
    "print(f\"{'x':<10} {'sin(x)':<20} {'cos(x)':<20}\") # print x, sin(x), and cos(x) headers aligned with 10, 20, and 20 spaces of width respectively\n",
    "print(\"=\"*50) # print 50 = characters for divider\n",
    "\n",
    "for i in range(10): # iterate over first 10 values\n",
    "    # index x, sin(x), and cos(x) from corresponding arrays\n",
    "    x = x_vals[i]\n",
    "    sin = sin_vals[i]\n",
    "    cos = cos_vals[i]\n",
    "    print(f\"{x:<10.4f} {sin:<20.4f} {cos:<20.4f}\") # print x, sin(x), and cos(x) to table with 4 decimal places"
   ]
  }
 ],
 "metadata": {
  "kernelspec": {
   "display_name": "Python 3 (ipykernel)",
   "language": "python",
   "name": "python3"
  },
  "language_info": {
   "codemirror_mode": {
    "name": "ipython",
    "version": 3
   },
   "file_extension": ".py",
   "mimetype": "text/x-python",
   "name": "python",
   "nbconvert_exporter": "python",
   "pygments_lexer": "ipython3",
   "version": "3.11.3"
  }
 },
 "nbformat": 4,
 "nbformat_minor": 5
}
